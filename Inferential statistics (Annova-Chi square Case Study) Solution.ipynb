{
 "cells": [
  {
   "cell_type": "markdown",
   "metadata": {},
   "source": [
    "# ANOVA and Chi Square "
   ]
  },
  {
   "cell_type": "markdown",
   "metadata": {},
   "source": [
    "### Practice Exercise 1 (10 marks)"
   ]
  },
  {
   "cell_type": "markdown",
   "metadata": {},
   "source": [
    "A company makes three types of electronic device.\n",
    "Life time in hours for each type of electronic device is given below:\n",
    "\n",
    "* life_type_A = [ 407, 411, 409 ]\n",
    "* life_type_B = [ 404, 406, 408, 405, 402 ]\n",
    "* ife_type_C  = [ 410, 408, 406, 408]"
   ]
  },
  {
   "cell_type": "markdown",
   "metadata": {},
   "source": [
    "### Hint"
   ]
  },
  {
   "cell_type": "code",
   "execution_count": 23,
   "metadata": {},
   "outputs": [],
   "source": [
    "import pandas            as pd\n",
    "import numpy             as np\n",
    "import matplotlib.pyplot as plt\n",
    "import seaborn           as sns\n",
    "import scipy.stats as st\n",
    "import statsmodels.stats as smt"
   ]
  },
  {
   "cell_type": "code",
   "execution_count": 2,
   "metadata": {},
   "outputs": [],
   "source": [
    "life_type_A = np.array([407, 411, 409 ])\n",
    "life_type_B = np.array([404, 406, 408, 405, 402 ])\n",
    "life_type_C  = np.array([410, 408, 406, 408])"
   ]
  },
  {
   "cell_type": "markdown",
   "metadata": {},
   "source": [
    "### a)  Write your inferene on the group means from the above boxplots."
   ]
  },
  {
   "cell_type": "code",
   "execution_count": 8,
   "metadata": {},
   "outputs": [
    {
     "name": "stdout",
     "output_type": "stream",
     "text": [
      "mean of A is  409.0\n",
      "mean of B is  405.0\n",
      "mean of C is  408.0\n"
     ]
    }
   ],
   "source": [
    "a=print('mean of A is ',life_type_A.mean())\n",
    "b=print('mean of B is ',life_type_B.mean())\n",
    "c=print('mean of C is ',life_type_C.mean())"
   ]
  },
  {
   "cell_type": "code",
   "execution_count": 13,
   "metadata": {},
   "outputs": [],
   "source": [
    "df = pd.DataFrame()\n",
    "\n",
    "df1 = pd.DataFrame({'Group': 'A', 'life_type':life_type_A})\n",
    "df2 = pd.DataFrame({'Group': 'B', 'life_type':life_type_B})\n",
    "df3 = pd.DataFrame({'Group': 'C', 'life_type':life_type_C})\n",
    "\n",
    "df =df.append(df1) \n",
    "df =df.append(df2) \n",
    "df =df.append(df3) "
   ]
  },
  {
   "cell_type": "code",
   "execution_count": 15,
   "metadata": {},
   "outputs": [
    {
     "data": {
      "image/png": "[encoded data removed]",
      "text/plain": [
       "<Figure size 432x288 with 1 Axes>"
      ]
     },
     "metadata": {
      "needs_background": "light"
     },
     "output_type": "display_data"
    }
   ],
   "source": [
    "sns.boxplot(x='Group',y='life_type',data=df)\n",
    "plt.title('group means')\n",
    "plt.show()"
   ]
  },
  {
   "cell_type": "markdown",
   "metadata": {},
   "source": [
    "### b)  At 5% level of significance, is there any difference in the average lifetimes of the three types?"
   ]
  },
  {
   "cell_type": "code",
   "execution_count": 24,
   "metadata": {},
   "outputs": [
    {
     "data": {
      "text/plain": [
       "F_onewayResult(statistic=4.5, pvalue=0.04419417382415922)"
      ]
     },
     "execution_count": 24,
     "metadata": {},
     "output_type": "execute_result"
    }
   ],
   "source": [
    "st.f_oneway(life_type_A ,life_type_B,life_type_C)"
   ]
  },
  {
   "cell_type": "markdown",
   "metadata": {},
   "source": [
    "## Chi Square"
   ]
  },
  {
   "cell_type": "markdown",
   "metadata": {},
   "source": [
    "### Practice Exercise 2 (5 Marks)"
   ]
  },
  {
   "cell_type": "markdown",
   "metadata": {},
   "source": [
    "The operations manager changes his belief and now believes that 28% of their passengers prefer vegan food, 42% prefer vegetarian food , 25% prefer non-veg food 5% request for Jain food. \n",
    "\n",
    "At 5% level of significance, can you confirm that the meal preference is as per the belief of the operations manager?"
   ]
  },
  {
   "cell_type": "code",
   "execution_count": 20,
   "metadata": {},
   "outputs": [],
   "source": [
    "import scipy.stats as stats\n",
    "import scipy\n",
    "\n",
    "observed_values    = scipy.array([190, 185, 90, 35])\n",
    "n                  = observed_values.sum()\n"
   ]
  },
  {
   "cell_type": "code",
   "execution_count": 25,
   "metadata": {},
   "outputs": [
    {
     "data": {
      "text/plain": [
       "Power_divergenceResult(statistic=34.63333333333334, pvalue=1.4561004918754443e-07)"
      ]
     },
     "execution_count": 25,
     "metadata": {},
     "output_type": "execute_result"
    }
   ],
   "source": [
    "expected_values    = scipy.array([n*.28, n*.42, n*.25, n*.05])\n",
    "stats.chisquare(observed_values,expected_values)"
   ]
  },
  {
   "cell_type": "markdown",
   "metadata": {},
   "source": [
    "### Chi-square tests of independence"
   ]
  },
  {
   "cell_type": "markdown",
   "metadata": {},
   "source": [
    "### Practice Exercise 3 (5 Marks)"
   ]
  },
  {
   "cell_type": "markdown",
   "metadata": {},
   "source": [
    "A Cable service provider company is interested in checking whether or not the customer churn depends on customer segment.  Use 5% as level of significance"
   ]
  },
  {
   "cell_type": "markdown",
   "metadata": {},
   "source": [
    "| Customer Segment | Churned | Retained |\n",
    "|  -------- | ----- | ---- |\n",
    "| S1 | 15 | 142 |\n",
    "| S2 | 24 | 400 |\n",
    "| S3 | 30 | 389 |\n"
   ]
  },
  {
   "cell_type": "markdown",
   "metadata": {},
   "source": [
    "#### Hint"
   ]
  },
  {
   "cell_type": "code",
   "execution_count": 17,
   "metadata": {},
   "outputs": [
    {
     "data": {
      "text/plain": [
       "(2.779977047087869, 0.24907816314986156, 2, array([[ 10.833, 146.167],\n",
       "        [ 29.256, 394.744],\n",
       "        [ 28.911, 390.089]]))"
      ]
     },
     "execution_count": 17,
     "metadata": {},
     "output_type": "execute_result"
    }
   ],
   "source": [
    "import numpy       as np\n",
    "import scipy.stats as stats\n",
    "\n",
    "churn_array = np.array([[15,142],[24, 400],[30, 389]])\n",
    "stats.chi2_contingency(churn_array)\n"
   ]
  },
  {
   "cell_type": "code",
   "execution_count": 18,
   "metadata": {},
   "outputs": [
    {
     "name": "stdout",
     "output_type": "stream",
     "text": [
      "Chi-square statistic 2.77998 P value 0.249078 Degrees of freedom 2\n"
     ]
    }
   ],
   "source": [
    "print('Chi-square statistic %3.5f P value %1.6f Degrees of freedom %d' %(chi_sq_Stat, p_value,deg_freedom))"
   ]
  },
  {
   "cell_type": "markdown",
   "metadata": {},
   "source": [
    "## E N D  "
   ]
  }
 ],
 "metadata": {
  "kernelspec": {
   "display_name": "Python 3",
   "language": "python",
   "name": "python3"
  },
  "language_info": {
   "codemirror_mode": {
    "name": "ipython",
    "version": 3
   },
   "file_extension": ".py",
   "mimetype": "text/x-python",
   "name": "python",
   "nbconvert_exporter": "python",
   "pygments_lexer": "ipython3",
   "version": "3.7.4"
  }
 },
 "nbformat": 4,
 "nbformat_minor": 2
}
